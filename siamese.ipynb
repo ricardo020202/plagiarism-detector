{
 "cells": [
  {
   "cell_type": "markdown",
   "id": "f4bb8de6",
   "metadata": {},
   "source": [
    "<h1>Use siamese GNN to predict the similarity of two source codes</h1>"
   ]
  },
  {
   "cell_type": "markdown",
   "id": "e7cac99c",
   "metadata": {},
   "source": [
    "<h3>Import dependencies</h3>"
   ]
  },
  {
   "cell_type": "code",
   "execution_count": 252,
   "id": "4390b887",
   "metadata": {},
   "outputs": [],
   "source": [
    "from tree_sitter import Language, Parser\n",
    "import tree_sitter_java as ts_java\n",
    "import os\n",
    "import pandas as pd\n",
    "import torch\n",
    "from torch_geometric.data import Data\n",
    "from torch_geometric.nn import GCNConv, global_mean_pool\n",
    "import torch.nn.functional as F, torch.nn as nn\n",
    "from torch_geometric.data import Batch\n",
    "from sklearn.metrics import confusion_matrix, f1_score\n",
    "import matplotlib.pyplot as plt\n",
    "import numpy as np\n",
    "import random"
   ]
  },
  {
   "cell_type": "markdown",
   "id": "da9d8a2e",
   "metadata": {},
   "source": [
    "<h2>Data preparation</h2>"
   ]
  },
  {
   "cell_type": "markdown",
   "id": "6b3b41d0",
   "metadata": {},
   "source": [
    "<h3>Define constants</h3>"
   ]
  },
  {
   "cell_type": "code",
   "execution_count": 253,
   "id": "dad6d4fa",
   "metadata": {},
   "outputs": [],
   "source": [
    "java_directory1 = './datasets/conplag_preprocessed'\n",
    "java_directory2 = './datasets/ir_plag_preprocessed'\n",
    "java_LANGUAGE = Language(ts_java.language())\n",
    "parser = Parser(java_LANGUAGE)\n",
    "csv_paths = ['./labels/conplag-labels.csv', './labels/ir_plag_labels.csv']"
   ]
  },
  {
   "cell_type": "code",
   "execution_count": 254,
   "id": "6b312cfa",
   "metadata": {},
   "outputs": [],
   "source": [
    "def load_csv(csv_path):\n",
    "    df = pd.read_csv(csv_path)\n",
    "    return df"
   ]
  },
  {
   "cell_type": "markdown",
   "id": "93039af9",
   "metadata": {},
   "source": [
    "<h3>Get AST</h3>"
   ]
  },
  {
   "cell_type": "code",
   "execution_count": 255,
   "id": "3185acef",
   "metadata": {},
   "outputs": [],
   "source": [
    "def parse_java_file(filepath):\n",
    "    with open(filepath, 'r', encoding='utf8') as file:\n",
    "        code = file.read()\n",
    "\n",
    "    tree = parser.parse(bytes(code, \"utf8\"))\n",
    "    root_node = tree.root_node\n",
    "\n",
    "    nodes = []\n",
    "    edges = []\n",
    "\n",
    "    def traverse(node, parent_idx=None):\n",
    "        idx = len(nodes)\n",
    "        nodes.append(node.type)\n",
    "        \n",
    "        if parent_idx is not None:\n",
    "            edges.append((parent_idx, idx))\n",
    "        \n",
    "        for child in node.children:\n",
    "            traverse(child, idx)\n",
    "\n",
    "    traverse(root_node)\n",
    "    return nodes, edges"
   ]
  },
  {
   "cell_type": "markdown",
   "id": "7f384178",
   "metadata": {},
   "source": [
    "<h3>Build data for GNN</h3>"
   ]
  },
  {
   "cell_type": "code",
   "execution_count": 256,
   "id": "3b169cc2",
   "metadata": {},
   "outputs": [],
   "source": [
    "def build_global_vocab(java_directories, file_lists):\n",
    "    all_node_types = set()\n",
    "\n",
    "    for java_directory, file_list in zip(java_directories, file_lists):\n",
    "        for file_name in file_list:\n",
    "            file_path = os.path.join(java_directory, file_name)\n",
    "            nodes, _ = parse_java_file(file_path)\n",
    "            all_node_types.update(nodes)\n",
    "\n",
    "    node_type_to_idx = {typ: idx for idx, typ in enumerate(sorted(all_node_types))}\n",
    "    return node_type_to_idx\n",
    "\n",
    "def create_node_features(nodes, node_type_to_idx):\n",
    "    node_features = [node_type_to_idx[typ] for typ in nodes]\n",
    "    return node_features\n",
    "\n",
    "def create_graph_data(nodes, edges, node_features, embedding_layer):\n",
    "    x = embedding_layer(torch.tensor(node_features))\n",
    "    edge_index = torch.tensor(edges, dtype=torch.long).t().contiguous()\n",
    "    data = Data(x=x, edge_index=edge_index)\n",
    "    return data"
   ]
  },
  {
   "cell_type": "code",
   "execution_count": 257,
   "id": "9ee31811",
   "metadata": {},
   "outputs": [],
   "source": [
    "class NodeEmbeddingLayer(nn.Module):\n",
    "    def __init__(self, num_node_types, embedding_dim):\n",
    "        super(NodeEmbeddingLayer, self).__init__()\n",
    "        self.embeddings = nn.Embedding(num_node_types, embedding_dim)\n",
    "\n",
    "    def forward(self, node_indices):\n",
    "        return self.embeddings(node_indices)\n",
    "    \n",
    "embedding_dim = 16"
   ]
  },
  {
   "cell_type": "code",
   "execution_count": 258,
   "id": "7ae20970",
   "metadata": {},
   "outputs": [],
   "source": [
    "def prepare_data_for_pairs(pairs_df, java_directory, node_type_to_idx, embedding_layer):\n",
    "    data_pairs = []\n",
    "    for idx, row in pairs_df.iterrows():\n",
    "        file1, file2, label = row['id1'], row['id2'], row['plagio']\n",
    "\n",
    "        file1_path = os.path.join(java_directory, file1)\n",
    "        file2_path = os.path.join(java_directory, file2)\n",
    "\n",
    "        nodes1, edges1 = parse_java_file(file1_path)\n",
    "        nodes2, edges2 = parse_java_file(file2_path)\n",
    "\n",
    "        node_features1 = create_node_features(nodes1, node_type_to_idx)\n",
    "        node_features2 = create_node_features(nodes2, node_type_to_idx)\n",
    "\n",
    "        data1 = create_graph_data(nodes1, edges1, node_features1, embedding_layer)\n",
    "        data2 = create_graph_data(nodes2, edges2, node_features2, embedding_layer)\n",
    "\n",
    "        data_pairs.append((data1, data2, label))\n",
    "        \n",
    "    return data_pairs"
   ]
  },
  {
   "cell_type": "code",
   "execution_count": 269,
   "id": "c7ddf221",
   "metadata": {},
   "outputs": [
    {
     "name": "stdout",
     "output_type": "stream",
     "text": [
      "Data preparation complete.\n",
      "Number of pairs in dataset 1: 460\n",
      "Number of pairs in dataset 2: 911\n",
      "Number of pairs in validation set: 91\n",
      "Number of pairs in test set: 92\n",
      "Dataset 1 - First pair:\n",
      "  Graph 1: 108 nodes, 107 edges\n",
      "  Graph 2: 109 nodes, 108 edges\n",
      "  Label: 1\n",
      "Dataset 2 - First pair:\n",
      "  Graph 1: 919 nodes, 918 edges\n",
      "  Graph 2: 1246 nodes, 1245 edges\n",
      "  Label: 0\n"
     ]
    }
   ],
   "source": [
    "pairs_df1 = load_csv(csv_paths[0])\n",
    "pairs_df2 = load_csv(csv_paths[1])\n",
    "\n",
    "file_list1 = list(set(pairs_df1['id1'].tolist() + pairs_df1['id2'].tolist()))\n",
    "file_list2 = list(set(pairs_df2['id1'].tolist() + pairs_df2['id2'].tolist()))\n",
    "\n",
    "java_directories = [java_directory1, java_directory2]\n",
    "file_lists = [file_list1, file_list2]\n",
    "\n",
    "node_type_to_idx = build_global_vocab(java_directories, file_lists)\n",
    "embedding_layer = NodeEmbeddingLayer(len(node_type_to_idx), embedding_dim)\n",
    "\n",
    "data_pairs2 = prepare_data_for_pairs(pairs_df1, java_directory1, node_type_to_idx, embedding_layer)\n",
    "val_pairs = data_pairs2[:int(len(data_pairs2) * 0.1)]\n",
    "data_pairs1 = prepare_data_for_pairs(pairs_df2, java_directory2, node_type_to_idx, embedding_layer)\n",
    "test_pairs = data_pairs1[:int(len(data_pairs1) * 0.2)]\n",
    "\n",
    "data_pairs1 = [pair for pair in data_pairs1 if pair not in val_pairs]\n",
    "data_pairs2 = [pair for pair in data_pairs2 if pair not in test_pairs]\n",
    "\n",
    "all_data_pairs = data_pairs2\n",
    "\n",
    "print(\"Data preparation complete.\")\n",
    "print(f\"Number of pairs in dataset 1: {len(data_pairs1)}\")\n",
    "print(f\"Number of pairs in dataset 2: {len(data_pairs2)}\")\n",
    "print(f\"Number of pairs in validation set: {len(val_pairs)}\")\n",
    "print(f\"Number of pairs in test set: {len(test_pairs)}\")\n",
    "data1, data2, label1 = data_pairs1[0]\n",
    "data3, data4, label2 = data_pairs2[0]\n",
    "print(f\"Dataset 1 - First pair:\")\n",
    "print(f\"  Graph 1: {data1.num_nodes} nodes, {data1.num_edges} edges\")\n",
    "print(f\"  Graph 2: {data2.num_nodes} nodes, {data2.num_edges} edges\")\n",
    "print(f\"  Label: {label1}\")\n",
    "print(f\"Dataset 2 - First pair:\")\n",
    "print(f\"  Graph 1: {data3.num_nodes} nodes, {data3.num_edges} edges\")\n",
    "print(f\"  Graph 2: {data4.num_nodes} nodes, {data4.num_edges} edges\")\n",
    "print(f\"  Label: {label2}\")"
   ]
  },
  {
   "cell_type": "markdown",
   "id": "1e5b01de",
   "metadata": {},
   "source": [
    "<h2>Model</h2>"
   ]
  },
  {
   "cell_type": "markdown",
   "id": "d0fdc33d",
   "metadata": {},
   "source": [
    "<h3>Build GNN siamese architecture</h3>"
   ]
  },
  {
   "cell_type": "code",
   "execution_count": 260,
   "id": "9c79f1bf",
   "metadata": {},
   "outputs": [],
   "source": [
    "class GNNEncoder(torch.nn.Module):\n",
    "    def __init__(self, in_channels, hidden_channels, out_channels):\n",
    "        super(GNNEncoder, self).__init__()\n",
    "        self.conv1 = GCNConv(in_channels, hidden_channels)\n",
    "        self.conv2 = GCNConv(hidden_channels, out_channels)\n",
    "\n",
    "    def forward(self, x, edge_index, batch):\n",
    "        x = self.conv1(x, edge_index)\n",
    "        x = F.relu(x)\n",
    "        x = self.conv2(x, edge_index)\n",
    "        x = global_mean_pool(x, batch)\n",
    "        return x\n",
    "\n",
    "class SiameseNetwork(torch.nn.Module):\n",
    "    def __init__(self, in_channels, hidden_channels, out_channels):\n",
    "        super(SiameseNetwork, self).__init__()\n",
    "        self.encoder = GNNEncoder(in_channels, hidden_channels, out_channels)\n",
    "\n",
    "    def forward(self, data1, data2):\n",
    "        h1 = self.encoder(data1.x, data1.edge_index, data1.batch)\n",
    "        h2 = self.encoder(data2.x, data2.edge_index, data2.batch)\n",
    "        return h1, h2\n",
    "\n",
    "def contrastive_loss(h1, h2, label, margin=1.0):\n",
    "    distance = F.pairwise_distance(h1, h2)\n",
    "    loss = (label * torch.pow(distance, 2) + \n",
    "           (1 - label) * torch.pow(F.relu(margin - distance), 2))\n",
    "    return loss.mean()\n",
    "\n",
    "def collate_fn(pairs, device):\n",
    "    data1_list, data2_list, labels = [], [], []\n",
    "    for d1, d2, label in pairs:\n",
    "        data1_list.append(d1)\n",
    "        data2_list.append(d2)\n",
    "        labels.append(label)\n",
    "\n",
    "    batch1 = Batch.from_data_list(data1_list).to(device)\n",
    "    batch2 = Batch.from_data_list(data2_list).to(device)\n",
    "    labels = torch.tensor(labels, dtype=torch.float, device=device).to(device)\n",
    "\n",
    "    return batch1, batch2, labels"
   ]
  },
  {
   "cell_type": "markdown",
   "id": "70a974c0",
   "metadata": {},
   "source": [
    "<h3>Training</h3>"
   ]
  },
  {
   "cell_type": "code",
   "execution_count": 261,
   "id": "f8dc2f52",
   "metadata": {},
   "outputs": [],
   "source": [
    "def train(model, optimizer, data_pairs, dataset2, device, epochs=10, batch_size=32, threshold=1.0):\n",
    "    for epoch in range(epochs):\n",
    "        model.train()\n",
    "        total_loss = 0\n",
    "        correct = 0\n",
    "        total = 0\n",
    "\n",
    "        for i in range(0, len(data_pairs), batch_size):\n",
    "            batch_pairs = data_pairs[i:i+batch_size]\n",
    "\n",
    "            batch1, batch2, labels = collate_fn(batch_pairs, device)\n",
    "\n",
    "            optimizer.zero_grad()\n",
    "            h1, h2 = model(batch1, batch2)\n",
    "            loss = contrastive_loss(h1, h2, labels)\n",
    "            loss.backward(retain_graph=True)\n",
    "            optimizer.step()\n",
    "\n",
    "            total_loss += loss.item()\n",
    "\n",
    "            distances = F.pairwise_distance(h1, h2)\n",
    "            predictions = (distances < threshold).float()\n",
    "            correct += (predictions == labels).sum().item()\n",
    "            total += labels.size(0)\n",
    "\n",
    "        train_loss = total_loss\n",
    "        train_accuracy = correct / total if total > 0 else 0\n",
    "\n",
    "        model.eval()\n",
    "        val_loss = 0\n",
    "        val_correct = 0\n",
    "        val_total = 0\n",
    "\n",
    "        with torch.no_grad():\n",
    "            for i in range(0, len(dataset2), batch_size):\n",
    "                batch_pairs = dataset2[i:i+batch_size]\n",
    "\n",
    "                batch1, batch2, labels = collate_fn(batch_pairs, device)\n",
    "\n",
    "                h1, h2 = model(batch1, batch2)\n",
    "                loss = contrastive_loss(h1, h2, labels)\n",
    "\n",
    "                val_loss += loss.item()\n",
    "\n",
    "                distances = F.pairwise_distance(h1, h2)\n",
    "                predictions = (distances < threshold).float()\n",
    "                val_correct += (predictions == labels).sum().item()\n",
    "                val_total += labels.size(0)\n",
    "\n",
    "        val_accuracy = val_correct / val_total if val_total > 0 else 0\n",
    "\n",
    "        print(f\"Epoch {epoch+1}\")\n",
    "        print(f\"  Train     Loss: {train_loss:.4f}, Accuracy: {train_accuracy*100:.2f}%  Validation Loss: {val_loss:.4f}, Accuracy: {val_accuracy*100:.2f}%\")"
   ]
  },
  {
   "cell_type": "code",
   "execution_count": 262,
   "id": "f03c5028",
   "metadata": {},
   "outputs": [
    {
     "name": "stdout",
     "output_type": "stream",
     "text": [
      "Using device: cuda\n"
     ]
    }
   ],
   "source": [
    "device = torch.device('cuda' if torch.cuda.is_available() else 'cpu')\n",
    "print(f\"Using device: {device}\")"
   ]
  },
  {
   "cell_type": "code",
   "execution_count": 263,
   "id": "1e399511",
   "metadata": {},
   "outputs": [],
   "source": [
    "embedding_dim = 16\n",
    "hidden_dim = 32\n",
    "out_dim = 32\n",
    "threshold = 0.45\n",
    "epochs = 70\n",
    "batch_size = 16"
   ]
  },
  {
   "cell_type": "code",
   "execution_count": 264,
   "id": "b45679b4",
   "metadata": {},
   "outputs": [
    {
     "name": "stdout",
     "output_type": "stream",
     "text": [
      "Epoch 1\n",
      "  Train     Loss: 25.6297, Accuracy: 28.32%  Validation Loss: 0.8358, Accuracy: 78.26%\n",
      "Epoch 2\n",
      "  Train     Loss: 25.5245, Accuracy: 28.43%  Validation Loss: 0.8469, Accuracy: 78.26%\n",
      "Epoch 3\n",
      "  Train     Loss: 25.4196, Accuracy: 28.54%  Validation Loss: 0.8582, Accuracy: 77.17%\n",
      "Epoch 4\n",
      "  Train     Loss: 25.3147, Accuracy: 28.65%  Validation Loss: 0.8699, Accuracy: 77.17%\n",
      "Epoch 5\n",
      "  Train     Loss: 25.2098, Accuracy: 28.65%  Validation Loss: 0.8817, Accuracy: 76.09%\n",
      "Epoch 6\n",
      "  Train     Loss: 25.1050, Accuracy: 29.31%  Validation Loss: 0.8938, Accuracy: 76.09%\n",
      "Epoch 7\n",
      "  Train     Loss: 25.0003, Accuracy: 29.75%  Validation Loss: 0.9062, Accuracy: 75.00%\n",
      "Epoch 8\n",
      "  Train     Loss: 24.8958, Accuracy: 29.75%  Validation Loss: 0.9188, Accuracy: 75.00%\n",
      "Epoch 9\n",
      "  Train     Loss: 24.7917, Accuracy: 29.75%  Validation Loss: 0.9316, Accuracy: 75.00%\n",
      "Epoch 10\n",
      "  Train     Loss: 24.6874, Accuracy: 29.97%  Validation Loss: 0.9448, Accuracy: 75.00%\n",
      "Epoch 11\n",
      "  Train     Loss: 24.5832, Accuracy: 30.41%  Validation Loss: 0.9583, Accuracy: 75.00%\n",
      "Epoch 12\n",
      "  Train     Loss: 24.4792, Accuracy: 30.52%  Validation Loss: 0.9721, Accuracy: 75.00%\n",
      "Epoch 13\n",
      "  Train     Loss: 24.3753, Accuracy: 30.52%  Validation Loss: 0.9861, Accuracy: 75.00%\n",
      "Epoch 14\n",
      "  Train     Loss: 24.2715, Accuracy: 30.52%  Validation Loss: 1.0005, Accuracy: 75.00%\n",
      "Epoch 15\n",
      "  Train     Loss: 24.1678, Accuracy: 30.74%  Validation Loss: 1.0152, Accuracy: 75.00%\n",
      "Epoch 16\n",
      "  Train     Loss: 24.0642, Accuracy: 30.95%  Validation Loss: 1.0301, Accuracy: 75.00%\n",
      "Epoch 17\n",
      "  Train     Loss: 23.9608, Accuracy: 31.50%  Validation Loss: 1.0453, Accuracy: 75.00%\n",
      "Epoch 18\n",
      "  Train     Loss: 23.8576, Accuracy: 31.39%  Validation Loss: 1.0607, Accuracy: 75.00%\n",
      "Epoch 19\n",
      "  Train     Loss: 23.7547, Accuracy: 31.72%  Validation Loss: 1.0762, Accuracy: 75.00%\n",
      "Epoch 20\n",
      "  Train     Loss: 23.6520, Accuracy: 31.61%  Validation Loss: 1.0919, Accuracy: 75.00%\n",
      "Epoch 21\n",
      "  Train     Loss: 23.5495, Accuracy: 31.61%  Validation Loss: 1.1077, Accuracy: 75.00%\n",
      "Epoch 22\n",
      "  Train     Loss: 23.4473, Accuracy: 31.83%  Validation Loss: 1.1237, Accuracy: 75.00%\n",
      "Epoch 23\n",
      "  Train     Loss: 23.3453, Accuracy: 31.83%  Validation Loss: 1.1399, Accuracy: 75.00%\n",
      "Epoch 24\n",
      "  Train     Loss: 23.2435, Accuracy: 32.05%  Validation Loss: 1.1563, Accuracy: 75.00%\n",
      "Epoch 25\n",
      "  Train     Loss: 23.1419, Accuracy: 32.27%  Validation Loss: 1.1728, Accuracy: 75.00%\n",
      "Epoch 26\n",
      "  Train     Loss: 23.0405, Accuracy: 32.38%  Validation Loss: 1.1896, Accuracy: 73.91%\n",
      "Epoch 27\n",
      "  Train     Loss: 22.9394, Accuracy: 32.71%  Validation Loss: 1.2065, Accuracy: 73.91%\n",
      "Epoch 28\n",
      "  Train     Loss: 22.8386, Accuracy: 33.04%  Validation Loss: 1.2237, Accuracy: 73.91%\n",
      "Epoch 29\n",
      "  Train     Loss: 22.7380, Accuracy: 33.04%  Validation Loss: 1.2410, Accuracy: 73.91%\n",
      "Epoch 30\n",
      "  Train     Loss: 22.6377, Accuracy: 33.48%  Validation Loss: 1.2586, Accuracy: 73.91%\n",
      "Epoch 31\n",
      "  Train     Loss: 22.5375, Accuracy: 33.81%  Validation Loss: 1.2764, Accuracy: 72.83%\n",
      "Epoch 32\n",
      "  Train     Loss: 22.4375, Accuracy: 34.03%  Validation Loss: 1.2944, Accuracy: 72.83%\n",
      "Epoch 33\n",
      "  Train     Loss: 22.3378, Accuracy: 34.47%  Validation Loss: 1.3126, Accuracy: 72.83%\n",
      "Epoch 34\n",
      "  Train     Loss: 22.2384, Accuracy: 34.36%  Validation Loss: 1.3310, Accuracy: 71.74%\n",
      "Epoch 35\n",
      "  Train     Loss: 22.1394, Accuracy: 34.91%  Validation Loss: 1.3495, Accuracy: 71.74%\n",
      "Epoch 36\n",
      "  Train     Loss: 22.0408, Accuracy: 35.02%  Validation Loss: 1.3682, Accuracy: 71.74%\n",
      "Epoch 37\n",
      "  Train     Loss: 21.9425, Accuracy: 35.13%  Validation Loss: 1.3872, Accuracy: 71.74%\n",
      "Epoch 38\n",
      "  Train     Loss: 21.8446, Accuracy: 35.24%  Validation Loss: 1.4063, Accuracy: 71.74%\n",
      "Epoch 39\n",
      "  Train     Loss: 21.7470, Accuracy: 35.46%  Validation Loss: 1.4255, Accuracy: 71.74%\n",
      "Epoch 40\n",
      "  Train     Loss: 21.6498, Accuracy: 35.68%  Validation Loss: 1.4450, Accuracy: 70.65%\n",
      "Epoch 41\n",
      "  Train     Loss: 21.5528, Accuracy: 35.68%  Validation Loss: 1.4648, Accuracy: 70.65%\n",
      "Epoch 42\n",
      "  Train     Loss: 21.4559, Accuracy: 35.68%  Validation Loss: 1.4847, Accuracy: 70.65%\n",
      "Epoch 43\n",
      "  Train     Loss: 21.3595, Accuracy: 35.68%  Validation Loss: 1.5048, Accuracy: 70.65%\n",
      "Epoch 44\n",
      "  Train     Loss: 21.2636, Accuracy: 36.11%  Validation Loss: 1.5251, Accuracy: 69.57%\n",
      "Epoch 45\n",
      "  Train     Loss: 21.1681, Accuracy: 36.44%  Validation Loss: 1.5456, Accuracy: 69.57%\n",
      "Epoch 46\n",
      "  Train     Loss: 21.0732, Accuracy: 36.55%  Validation Loss: 1.5662, Accuracy: 69.57%\n",
      "Epoch 47\n",
      "  Train     Loss: 20.9787, Accuracy: 37.32%  Validation Loss: 1.5871, Accuracy: 69.57%\n",
      "Epoch 48\n",
      "  Train     Loss: 20.8848, Accuracy: 37.87%  Validation Loss: 1.6081, Accuracy: 69.57%\n",
      "Epoch 49\n",
      "  Train     Loss: 20.7913, Accuracy: 38.09%  Validation Loss: 1.6293, Accuracy: 68.48%\n",
      "Epoch 50\n",
      "  Train     Loss: 20.6984, Accuracy: 38.31%  Validation Loss: 1.6507, Accuracy: 68.48%\n",
      "Epoch 51\n",
      "  Train     Loss: 20.6061, Accuracy: 38.31%  Validation Loss: 1.6722, Accuracy: 68.48%\n",
      "Epoch 52\n",
      "  Train     Loss: 20.5143, Accuracy: 38.53%  Validation Loss: 1.6939, Accuracy: 68.48%\n",
      "Epoch 53\n",
      "  Train     Loss: 20.4230, Accuracy: 38.97%  Validation Loss: 1.7158, Accuracy: 68.48%\n",
      "Epoch 54\n",
      "  Train     Loss: 20.3323, Accuracy: 39.08%  Validation Loss: 1.7378, Accuracy: 68.48%\n",
      "Epoch 55\n",
      "  Train     Loss: 20.2414, Accuracy: 39.52%  Validation Loss: 1.7603, Accuracy: 68.48%\n",
      "Epoch 56\n",
      "  Train     Loss: 20.1509, Accuracy: 39.96%  Validation Loss: 1.7830, Accuracy: 68.48%\n",
      "Epoch 57\n",
      "  Train     Loss: 20.0610, Accuracy: 40.18%  Validation Loss: 1.8060, Accuracy: 68.48%\n",
      "Epoch 58\n",
      "  Train     Loss: 19.9717, Accuracy: 40.83%  Validation Loss: 1.8291, Accuracy: 68.48%\n",
      "Epoch 59\n",
      "  Train     Loss: 19.8832, Accuracy: 41.49%  Validation Loss: 1.8525, Accuracy: 68.48%\n",
      "Epoch 60\n",
      "  Train     Loss: 19.7952, Accuracy: 41.71%  Validation Loss: 1.8760, Accuracy: 68.48%\n",
      "Epoch 61\n",
      "  Train     Loss: 19.7078, Accuracy: 41.93%  Validation Loss: 1.8997, Accuracy: 68.48%\n",
      "Epoch 62\n",
      "  Train     Loss: 19.6211, Accuracy: 42.04%  Validation Loss: 1.9236, Accuracy: 68.48%\n",
      "Epoch 63\n",
      "  Train     Loss: 19.5348, Accuracy: 42.48%  Validation Loss: 1.9477, Accuracy: 68.48%\n",
      "Epoch 64\n",
      "  Train     Loss: 19.4492, Accuracy: 42.59%  Validation Loss: 1.9720, Accuracy: 68.48%\n",
      "Epoch 65\n",
      "  Train     Loss: 19.3642, Accuracy: 42.81%  Validation Loss: 1.9965, Accuracy: 68.48%\n",
      "Epoch 66\n",
      "  Train     Loss: 19.2798, Accuracy: 43.03%  Validation Loss: 2.0212, Accuracy: 68.48%\n",
      "Epoch 67\n",
      "  Train     Loss: 19.1962, Accuracy: 43.25%  Validation Loss: 2.0461, Accuracy: 68.48%\n",
      "Epoch 68\n",
      "  Train     Loss: 19.1132, Accuracy: 43.47%  Validation Loss: 2.0712, Accuracy: 68.48%\n",
      "Epoch 69\n",
      "  Train     Loss: 19.0308, Accuracy: 43.58%  Validation Loss: 2.0964, Accuracy: 68.48%\n",
      "Epoch 70\n",
      "  Train     Loss: 18.9492, Accuracy: 44.02%  Validation Loss: 2.1217, Accuracy: 68.48%\n"
     ]
    }
   ],
   "source": [
    "model = SiameseNetwork(\n",
    "    in_channels=embedding_dim,\n",
    "    hidden_channels=hidden_dim,\n",
    "    out_channels=out_dim\n",
    ").to(device)\n",
    "\n",
    "optimizer = torch.optim.Adam(model.parameters(), lr=0.00001)\n",
    "train(model, optimizer, all_data_pairs, test_pairs, device, epochs=epochs, batch_size=batch_size, threshold=threshold)\n",
    "torch.save(model.state_dict(), './models/siamese_gnn_model12.pth')"
   ]
  },
  {
   "cell_type": "markdown",
   "id": "4fa4ca0a",
   "metadata": {},
   "source": [
    "<h3>Evaluation</h3>"
   ]
  },
  {
   "cell_type": "code",
   "execution_count": 265,
   "id": "8f09c119",
   "metadata": {},
   "outputs": [
    {
     "data": {
      "text/plain": [
       "SiameseNetwork(\n",
       "  (encoder): GNNEncoder(\n",
       "    (conv1): GCNConv(16, 32)\n",
       "    (conv2): GCNConv(32, 32)\n",
       "  )\n",
       ")"
      ]
     },
     "execution_count": 265,
     "metadata": {},
     "output_type": "execute_result"
    }
   ],
   "source": [
    "loaded_model = SiameseNetwork(\n",
    "    in_channels=embedding_dim,\n",
    "    hidden_channels=hidden_dim,\n",
    "    out_channels=out_dim\n",
    ").to(device)\n",
    "model.load_state_dict(torch.load(\"models/siamese_gnn_model12.pth\"))\n",
    "model.eval()"
   ]
  },
  {
   "cell_type": "code",
   "execution_count": 266,
   "id": "2067fcc0",
   "metadata": {},
   "outputs": [],
   "source": [
    "def compute_confusion_matrix(model, dataset, device, batch_size=batch_size, threshold=threshold):\n",
    "    model.eval()\n",
    "    all_preds = []\n",
    "    all_labels = []\n",
    "\n",
    "    with torch.no_grad():\n",
    "        for i in range(0, len(dataset), batch_size):\n",
    "            batch_pairs = dataset[i:i+batch_size]\n",
    "\n",
    "            batch1, batch2, labels = collate_fn(batch_pairs, device)\n",
    "\n",
    "            h1, h2 = model(batch1, batch2)\n",
    "\n",
    "            distances = F.pairwise_distance(h1, h2)\n",
    "            predictions = (distances < threshold).float()\n",
    "\n",
    "            all_preds.extend(predictions.cpu().numpy())\n",
    "            all_labels.extend(labels.cpu().numpy())\n",
    "\n",
    "    all_preds = [int(round(x)) for x in all_preds]\n",
    "    all_labels = [int(round(x)) for x in all_labels]\n",
    "    \n",
    "    cm = confusion_matrix(all_labels, all_preds, labels=[1, 0])\n",
    "    return cm\n",
    "\n",
    "def plot_confusion_matrix(cm, labels):\n",
    "    fig, ax = plt.subplots(figsize=(8, 6))\n",
    "    cax = ax.matshow(cm, cmap=plt.cm.Blues)\n",
    "    plt.colorbar(cax)\n",
    "    ax.set_xticklabels([''] + labels)\n",
    "    ax.set_yticklabels([''] + labels)\n",
    "\n",
    "    for (i, j), value in np.ndenumerate(cm):\n",
    "        ax.text(j, i, f'{value}', ha='center', va='center', color='white' if cm[i, j] > cm.max()/2 else 'black')\n",
    "\n",
    "    plt.xlabel('Predicted')\n",
    "    plt.ylabel('True')\n",
    "    plt.title('Confusion Matrix')\n",
    "    plt.show()\n"
   ]
  },
  {
   "cell_type": "code",
   "execution_count": 267,
   "id": "6428e1ac",
   "metadata": {},
   "outputs": [
    {
     "name": "stderr",
     "output_type": "stream",
     "text": [
      "C:\\Users\\ricor\\AppData\\Local\\Temp\\ipykernel_48248\\2698818396.py:30: UserWarning: set_ticklabels() should only be used with a fixed number of ticks, i.e. after set_ticks() or using a FixedLocator.\n",
      "  ax.set_xticklabels([''] + labels)\n",
      "C:\\Users\\ricor\\AppData\\Local\\Temp\\ipykernel_48248\\2698818396.py:31: UserWarning: set_ticklabels() should only be used with a fixed number of ticks, i.e. after set_ticks() or using a FixedLocator.\n",
      "  ax.set_yticklabels([''] + labels)\n"
     ]
    },
    {
     "data": {
      "image/png": "[encoded data removed]",
      "text/plain": [
       "<Figure size 800x600 with 2 Axes>"
      ]
     },
     "metadata": {},
     "output_type": "display_data"
    }
   ],
   "source": [
    "cm = compute_confusion_matrix(loaded_model, test_pairs, device, batch_size=batch_size, threshold=threshold)\n",
    "plot_confusion_matrix(cm, labels=['Plagiarized', 'Not Plagiarized'])"
   ]
  },
  {
   "cell_type": "code",
   "execution_count": 268,
   "id": "dd09f37a",
   "metadata": {},
   "outputs": [
    {
     "data": {
      "text/plain": [
       "(0.47585824131965637, True)"
      ]
     },
     "execution_count": 268,
     "metadata": {},
     "output_type": "execute_result"
    }
   ],
   "source": [
    "def plagiarism(path1, path2, model, embedding_layer, node_type_to_idx, parser, device='cpu'):\n",
    "    def procesar_archivo(filepath):\n",
    "        with open(filepath, 'r', encoding='utf8') as file:\n",
    "            code = file.read()\n",
    "        tree = parser.parse(bytes(code, \"utf8\"))\n",
    "        root_node = tree.root_node\n",
    "\n",
    "        nodes = []\n",
    "        edges = []\n",
    "        def traverse(node, parent_idx=None):\n",
    "            idx = len(nodes)\n",
    "            nodes.append(node.type)\n",
    "            if parent_idx is not None:\n",
    "                edges.append((parent_idx, idx))\n",
    "            for child in node.children:\n",
    "                traverse(child, idx)\n",
    "        traverse(root_node)\n",
    "\n",
    "        node_features = [node_type_to_idx.get(typ, 0) for typ in nodes]  # manejar tokens fuera de vocabulario\n",
    "        x = embedding_layer(torch.tensor(node_features)).to(device)\n",
    "        edge_index = torch.tensor(edges, dtype=torch.long).t().contiguous().to(device)\n",
    "        data = Data(x=x, edge_index=edge_index)\n",
    "        return data\n",
    "\n",
    "    g1 = procesar_archivo(path1)\n",
    "    g2 = procesar_archivo(path2)\n",
    "\n",
    "    g1 = g1.to(device)\n",
    "    g2 = g2.to(device)\n",
    "\n",
    "    model.eval()\n",
    "    with torch.no_grad():\n",
    "        h1, h2 = model(g1, g2)\n",
    "        distance = F.pairwise_distance(h1, h2)\n",
    "        pred = torch.sigmoid(-distance).cpu().item()\n",
    "\n",
    "    return pred, pred > threshold\n",
    "\n",
    "plagiarism('./datasets/conplag_preprocessed/a4d6775d.java', './datasets/conplag_preprocessed/cb87df79.java', loaded_model, embedding_layer, node_type_to_idx, parser, device=device)"
   ]
  }
 ],
 "metadata": {
  "kernelspec": {
   "display_name": ".venv",
   "language": "python",
   "name": "python3"
  },
  "language_info": {
   "codemirror_mode": {
    "name": "ipython",
    "version": 3
   },
   "file_extension": ".py",
   "mimetype": "text/x-python",
   "name": "python",
   "nbconvert_exporter": "python",
   "pygments_lexer": "ipython3",
   "version": "3.11.0"
  }
 },
 "nbformat": 4,
 "nbformat_minor": 5
}
