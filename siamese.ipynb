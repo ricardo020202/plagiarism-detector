{
 "cells": [
  {
   "cell_type": "markdown",
   "id": "f4bb8de6",
   "metadata": {},
   "source": [
    "<h1>Use siamese GNN to predict the similarity of two source codes</h1>"
   ]
  },
  {
   "cell_type": "markdown",
   "id": "e7cac99c",
   "metadata": {},
   "source": [
    "<h3>Import dependencies</h3>"
   ]
  },
  {
   "cell_type": "code",
   "execution_count": 1082,
   "id": "4390b887",
   "metadata": {},
   "outputs": [],
   "source": [
    "from tree_sitter import Language, Parser\n",
    "import tree_sitter_java as ts_java\n",
    "import os\n",
    "import pandas as pd\n",
    "import torch\n",
    "from torch_geometric.data import Data\n",
    "from torch_geometric.nn import GCNConv, global_mean_pool\n",
    "import torch.nn.functional as F, torch.nn as nn\n",
    "from torch_geometric.data import Batch\n",
    "from sklearn.metrics import confusion_matrix, f1_score\n",
    "import matplotlib.pyplot as plt\n",
    "import numpy as np\n",
    "import random"
   ]
  },
  {
   "cell_type": "markdown",
   "id": "da9d8a2e",
   "metadata": {},
   "source": [
    "<h2>Data preparation</h2>"
   ]
  },
  {
   "cell_type": "markdown",
   "id": "6b3b41d0",
   "metadata": {},
   "source": [
    "<h3>Define constants</h3>"
   ]
  },
  {
   "cell_type": "code",
   "execution_count": 1083,
   "id": "dad6d4fa",
   "metadata": {},
   "outputs": [],
   "source": [
    "java_directory1 = './datasets/fire14-source-code-training-dataset/java'\n",
    "java_directory2 = './datasets/ir_plag_preprocessed'\n",
    "java_LANGUAGE = Language(ts_java.language())\n",
    "parser = Parser(java_LANGUAGE)\n",
    "csv_paths = ['./labels/fire14-labels.csv', './labels/ir_plag_labels.csv']"
   ]
  },
  {
   "cell_type": "code",
   "execution_count": 1084,
   "id": "6b312cfa",
   "metadata": {},
   "outputs": [],
   "source": [
    "def load_csv(csv_path):\n",
    "    df = pd.read_csv(csv_path)\n",
    "    return df"
   ]
  },
  {
   "cell_type": "markdown",
   "id": "93039af9",
   "metadata": {},
   "source": [
    "<h3>Get AST</h3>"
   ]
  },
  {
   "cell_type": "code",
   "execution_count": 1085,
   "id": "3185acef",
   "metadata": {},
   "outputs": [],
   "source": [
    "def parse_java_file(filepath):\n",
    "    with open(filepath, 'r', encoding='utf8') as file:\n",
    "        code = file.read()\n",
    "\n",
    "    tree = parser.parse(bytes(code, \"utf8\"))\n",
    "    root_node = tree.root_node\n",
    "\n",
    "    nodes = []\n",
    "    edges = []\n",
    "\n",
    "    def traverse(node, parent_idx=None):\n",
    "        idx = len(nodes)\n",
    "        nodes.append(node.type)\n",
    "        \n",
    "        if parent_idx is not None:\n",
    "            edges.append((parent_idx, idx))\n",
    "        \n",
    "        for child in node.children:\n",
    "            traverse(child, idx)\n",
    "\n",
    "    traverse(root_node)\n",
    "    return nodes, edges"
   ]
  },
  {
   "cell_type": "markdown",
   "id": "7f384178",
   "metadata": {},
   "source": [
    "<h3>Build data for GNN</h3>"
   ]
  },
  {
   "cell_type": "code",
   "execution_count": 1086,
   "id": "3b169cc2",
   "metadata": {},
   "outputs": [],
   "source": [
    "def build_global_vocab(java_directories, file_lists):\n",
    "    all_node_types = set()\n",
    "\n",
    "    for java_directory, file_list in zip(java_directories, file_lists):\n",
    "        for file_name in file_list:\n",
    "            file_path = os.path.join(java_directory, file_name)\n",
    "            nodes, _ = parse_java_file(file_path)\n",
    "            all_node_types.update(nodes)\n",
    "\n",
    "    node_type_to_idx = {typ: idx for idx, typ in enumerate(sorted(all_node_types))}\n",
    "    return node_type_to_idx\n",
    "\n",
    "def create_node_features(nodes, node_type_to_idx):\n",
    "    node_features = [node_type_to_idx[typ] for typ in nodes]\n",
    "    return node_features\n",
    "\n",
    "def create_graph_data(nodes, edges, node_features, embedding_layer):\n",
    "    x = embedding_layer(torch.tensor(node_features))\n",
    "    edge_index = torch.tensor(edges, dtype=torch.long).t().contiguous()\n",
    "    data = Data(x=x, edge_index=edge_index)\n",
    "    return data"
   ]
  },
  {
   "cell_type": "code",
   "execution_count": 1087,
   "id": "9ee31811",
   "metadata": {},
   "outputs": [],
   "source": [
    "class NodeEmbeddingLayer(nn.Module):\n",
    "    def __init__(self, num_node_types, embedding_dim):\n",
    "        super(NodeEmbeddingLayer, self).__init__()\n",
    "        self.embeddings = nn.Embedding(num_node_types, embedding_dim)\n",
    "\n",
    "    def forward(self, node_indices):\n",
    "        return self.embeddings(node_indices)\n",
    "    \n",
    "embedding_dim = 16"
   ]
  },
  {
   "cell_type": "code",
   "execution_count": 1088,
   "id": "7ae20970",
   "metadata": {},
   "outputs": [],
   "source": [
    "def prepare_data_for_pairs(pairs_df, java_directory, node_type_to_idx, embedding_layer):\n",
    "    data_pairs = []\n",
    "    for idx, row in pairs_df.iterrows():\n",
    "        file1, file2, label = row['id1'], row['id2'], row['plagio']\n",
    "\n",
    "        file1_path = os.path.join(java_directory, file1)\n",
    "        file2_path = os.path.join(java_directory, file2)\n",
    "\n",
    "        nodes1, edges1 = parse_java_file(file1_path)\n",
    "        nodes2, edges2 = parse_java_file(file2_path)\n",
    "\n",
    "        node_features1 = create_node_features(nodes1, node_type_to_idx)\n",
    "        node_features2 = create_node_features(nodes2, node_type_to_idx)\n",
    "\n",
    "        data1 = create_graph_data(nodes1, edges1, node_features1, embedding_layer)\n",
    "        data2 = create_graph_data(nodes2, edges2, node_features2, embedding_layer)\n",
    "\n",
    "        data_pairs.append((data1, data2, label))\n",
    "        \n",
    "    return data_pairs"
   ]
  },
  {
   "cell_type": "code",
   "execution_count": 1089,
   "id": "c7ddf221",
   "metadata": {},
   "outputs": [
    {
     "name": "stdout",
     "output_type": "stream",
     "text": [
      "Data preparation complete.\n",
      "Number of pairs in dataset 1: 454\n",
      "Number of pairs in dataset 2: 368\n",
      "Dataset 1 - First pair:\n",
      "  Graph 1: 718 nodes, 717 edges\n",
      "  Graph 2: 915 nodes, 914 edges\n",
      "  Label: 0\n",
      "Dataset 2 - First pair:\n",
      "  Graph 1: 162 nodes, 161 edges\n",
      "  Graph 2: 192 nodes, 191 edges\n",
      "  Label: 1\n"
     ]
    }
   ],
   "source": [
    "pairs_df1 = load_csv(csv_paths[0])\n",
    "pairs_df2 = load_csv(csv_paths[1])\n",
    "\n",
    "file_list1 = list(set(pairs_df1['id1'].tolist() + pairs_df1['id2'].tolist()))\n",
    "file_list2 = list(set(pairs_df2['id1'].tolist() + pairs_df2['id2'].tolist()))\n",
    "\n",
    "java_directories = [java_directory1, java_directory2]\n",
    "file_lists = [file_list1, file_list2]\n",
    "\n",
    "node_type_to_idx = build_global_vocab(java_directories, file_lists)\n",
    "embedding_layer = NodeEmbeddingLayer(len(node_type_to_idx), embedding_dim)\n",
    "\n",
    "data_pairs1 = prepare_data_for_pairs(pairs_df1, java_directory1, node_type_to_idx, embedding_layer)\n",
    "val_pairs = data_pairs1[:int(len(data_pairs1) * 0.1)]\n",
    "data_pairs2 = prepare_data_for_pairs(pairs_df2, java_directory2, node_type_to_idx, embedding_layer)\n",
    "test_pairs = data_pairs2[:int(len(data_pairs2) * 0.2)]\n",
    "\n",
    "data_pairs1 = [pair for pair in data_pairs1 if pair not in val_pairs]\n",
    "data_pairs2 = [pair for pair in data_pairs2 if pair not in test_pairs]\n",
    "\n",
    "all_data_pairs = data_pairs1 + data_pairs2\n",
    "\n",
    "print(\"Data preparation complete.\")\n",
    "print(f\"Number of pairs in dataset 1: {len(data_pairs1)}\")\n",
    "print(f\"Number of pairs in dataset 2: {len(data_pairs2)}\")\n",
    "data1, data2, label1 = data_pairs1[0]\n",
    "data3, data4, label2 = data_pairs2[0]\n",
    "print(f\"Dataset 1 - First pair:\")\n",
    "print(f\"  Graph 1: {data1.num_nodes} nodes, {data1.num_edges} edges\")\n",
    "print(f\"  Graph 2: {data2.num_nodes} nodes, {data2.num_edges} edges\")\n",
    "print(f\"  Label: {label1}\")\n",
    "print(f\"Dataset 2 - First pair:\")\n",
    "print(f\"  Graph 1: {data3.num_nodes} nodes, {data3.num_edges} edges\")\n",
    "print(f\"  Graph 2: {data4.num_nodes} nodes, {data4.num_edges} edges\")\n",
    "print(f\"  Label: {label2}\")"
   ]
  },
  {
   "cell_type": "markdown",
   "id": "1e5b01de",
   "metadata": {},
   "source": [
    "<h2>Model</h2>"
   ]
  },
  {
   "cell_type": "markdown",
   "id": "d0fdc33d",
   "metadata": {},
   "source": [
    "<h3>Build GNN siamese architecture</h3>"
   ]
  },
  {
   "cell_type": "code",
   "execution_count": 1090,
   "id": "9c79f1bf",
   "metadata": {},
   "outputs": [],
   "source": [
    "class GNNEncoder(torch.nn.Module):\n",
    "    def __init__(self, in_channels, hidden_channels, out_channels):\n",
    "        super(GNNEncoder, self).__init__()\n",
    "        self.conv1 = GCNConv(in_channels, hidden_channels)\n",
    "        self.conv2 = GCNConv(hidden_channels, out_channels)\n",
    "\n",
    "    def forward(self, x, edge_index, batch):\n",
    "        x = self.conv1(x, edge_index)\n",
    "        x = F.relu(x)\n",
    "        x = self.conv2(x, edge_index)\n",
    "        x = global_mean_pool(x, batch)\n",
    "        return x\n",
    "\n",
    "class SiameseNetwork(torch.nn.Module):\n",
    "    def __init__(self, in_channels, hidden_channels, out_channels):\n",
    "        super(SiameseNetwork, self).__init__()\n",
    "        self.encoder = GNNEncoder(in_channels, hidden_channels, out_channels)\n",
    "\n",
    "    def forward(self, data1, data2):\n",
    "        h1 = self.encoder(data1.x, data1.edge_index, data1.batch)\n",
    "        h2 = self.encoder(data2.x, data2.edge_index, data2.batch)\n",
    "        return h1, h2\n",
    "\n",
    "def contrastive_loss(h1, h2, label, margin=1.0):\n",
    "    distance = F.pairwise_distance(h1, h2)\n",
    "    loss = (label * torch.pow(distance, 2) + \n",
    "           (1 - label) * torch.pow(F.relu(margin - distance), 2))\n",
    "    return loss.mean()\n",
    "\n",
    "def collate_fn(pairs, device):\n",
    "    data1_list, data2_list, labels = [], [], []\n",
    "    for d1, d2, label in pairs:\n",
    "        data1_list.append(d1)\n",
    "        data2_list.append(d2)\n",
    "        labels.append(label)\n",
    "\n",
    "    batch1 = Batch.from_data_list(data1_list).to(device)\n",
    "    batch2 = Batch.from_data_list(data2_list).to(device)\n",
    "    labels = torch.tensor(labels, dtype=torch.float, device=device).to(device)\n",
    "\n",
    "    return batch1, batch2, labels"
   ]
  },
  {
   "cell_type": "markdown",
   "id": "70a974c0",
   "metadata": {},
   "source": [
    "<h3>Training</h3>"
   ]
  },
  {
   "cell_type": "code",
   "execution_count": 1091,
   "id": "f8dc2f52",
   "metadata": {},
   "outputs": [],
   "source": [
    "def train(model, optimizer, data_pairs, dataset2, device, epochs=10, batch_size=32, threshold=1.0):\n",
    "    for epoch in range(epochs):\n",
    "        model.train()\n",
    "        total_loss = 0\n",
    "        correct = 0\n",
    "        total = 0\n",
    "\n",
    "        for i in range(0, len(data_pairs), batch_size):\n",
    "            batch_pairs = data_pairs[i:i+batch_size]\n",
    "\n",
    "            batch1, batch2, labels = collate_fn(batch_pairs, device)\n",
    "\n",
    "            optimizer.zero_grad()\n",
    "            h1, h2 = model(batch1, batch2)\n",
    "            loss = contrastive_loss(h1, h2, labels)\n",
    "            loss.backward(retain_graph=True)\n",
    "            optimizer.step()\n",
    "\n",
    "            total_loss += loss.item()\n",
    "\n",
    "            distances = F.pairwise_distance(h1, h2)\n",
    "            predictions = (distances < threshold).float()\n",
    "            correct += (predictions == labels).sum().item()\n",
    "            total += labels.size(0)\n",
    "\n",
    "        train_loss = total_loss\n",
    "        train_accuracy = correct / total if total > 0 else 0\n",
    "\n",
    "        model.eval()\n",
    "        val_loss = 0\n",
    "        val_correct = 0\n",
    "        val_total = 0\n",
    "\n",
    "        with torch.no_grad():\n",
    "            for i in range(0, len(dataset2), batch_size):\n",
    "                batch_pairs = dataset2[i:i+batch_size]\n",
    "\n",
    "                batch1, batch2, labels = collate_fn(batch_pairs, device)\n",
    "\n",
    "                h1, h2 = model(batch1, batch2)\n",
    "                loss = contrastive_loss(h1, h2, labels)\n",
    "\n",
    "                val_loss += loss.item()\n",
    "\n",
    "                distances = F.pairwise_distance(h1, h2)\n",
    "                predictions = (distances < threshold).float()\n",
    "                val_correct += (predictions == labels).sum().item()\n",
    "                val_total += labels.size(0)\n",
    "\n",
    "        val_accuracy = val_correct / val_total if val_total > 0 else 0\n",
    "\n",
    "        print(f\"Epoch {epoch+1}\")\n",
    "        print(f\"  Train     Loss: {train_loss:.4f}, Accuracy: {train_accuracy*100:.2f}%  Validation Loss: {val_loss:.4f}, Accuracy: {val_accuracy*100:.2f}%\")"
   ]
  },
  {
   "cell_type": "code",
   "execution_count": 1092,
   "id": "f03c5028",
   "metadata": {},
   "outputs": [
    {
     "name": "stdout",
     "output_type": "stream",
     "text": [
      "Using device: cuda\n"
     ]
    }
   ],
   "source": [
    "device = torch.device('cuda' if torch.cuda.is_available() else 'cpu')\n",
    "print(f\"Using device: {device}\")"
   ]
  },
  {
   "cell_type": "code",
   "execution_count": 1093,
   "id": "1e399511",
   "metadata": {},
   "outputs": [],
   "source": [
    "embedding_dim = 16\n",
    "hidden_dim = 32\n",
    "out_dim = 32\n",
    "threshold = 0.5\n",
    "epochs = 70\n",
    "batch_size = 64"
   ]
  },
  {
   "cell_type": "code",
   "execution_count": 1094,
   "id": "b45679b4",
   "metadata": {},
   "outputs": [
    {
     "name": "stdout",
     "output_type": "stream",
     "text": [
      "Epoch 1\n",
      "  Train     Loss: 3.3426, Accuracy: 55.47%  Validation Loss: 0.2374, Accuracy: 52.00%\n",
      "Epoch 2\n",
      "  Train     Loss: 2.8764, Accuracy: 62.77%  Validation Loss: 0.1975, Accuracy: 66.00%\n",
      "Epoch 3\n",
      "  Train     Loss: 2.5605, Accuracy: 67.76%  Validation Loss: 0.1683, Accuracy: 68.00%\n",
      "Epoch 4\n",
      "  Train     Loss: 2.3412, Accuracy: 72.14%  Validation Loss: 0.1490, Accuracy: 70.00%\n",
      "Epoch 5\n",
      "  Train     Loss: 2.1919, Accuracy: 75.55%  Validation Loss: 0.1375, Accuracy: 72.00%\n",
      "Epoch 6\n",
      "  Train     Loss: 2.0844, Accuracy: 77.01%  Validation Loss: 0.1311, Accuracy: 78.00%\n",
      "Epoch 7\n",
      "  Train     Loss: 1.9976, Accuracy: 78.59%  Validation Loss: 0.1276, Accuracy: 80.00%\n",
      "Epoch 8\n",
      "  Train     Loss: 1.9212, Accuracy: 79.44%  Validation Loss: 0.1255, Accuracy: 78.00%\n",
      "Epoch 9\n",
      "  Train     Loss: 1.8511, Accuracy: 79.93%  Validation Loss: 0.1239, Accuracy: 82.00%\n",
      "Epoch 10\n",
      "  Train     Loss: 1.7863, Accuracy: 80.54%  Validation Loss: 0.1225, Accuracy: 82.00%\n",
      "Epoch 11\n",
      "  Train     Loss: 1.7264, Accuracy: 81.02%  Validation Loss: 0.1211, Accuracy: 80.00%\n",
      "Epoch 12\n",
      "  Train     Loss: 1.6713, Accuracy: 82.00%  Validation Loss: 0.1198, Accuracy: 82.00%\n",
      "Epoch 13\n",
      "  Train     Loss: 1.6213, Accuracy: 82.60%  Validation Loss: 0.1186, Accuracy: 82.00%\n",
      "Epoch 14\n",
      "  Train     Loss: 1.5763, Accuracy: 83.21%  Validation Loss: 0.1176, Accuracy: 82.00%\n",
      "Epoch 15\n",
      "  Train     Loss: 1.5361, Accuracy: 83.94%  Validation Loss: 0.1167, Accuracy: 82.00%\n",
      "Epoch 16\n",
      "  Train     Loss: 1.5002, Accuracy: 83.94%  Validation Loss: 0.1161, Accuracy: 84.00%\n",
      "Epoch 17\n",
      "  Train     Loss: 1.4684, Accuracy: 84.06%  Validation Loss: 0.1157, Accuracy: 84.00%\n",
      "Epoch 18\n",
      "  Train     Loss: 1.4400, Accuracy: 84.43%  Validation Loss: 0.1155, Accuracy: 86.00%\n",
      "Epoch 19\n",
      "  Train     Loss: 1.4150, Accuracy: 84.79%  Validation Loss: 0.1154, Accuracy: 88.00%\n",
      "Epoch 20\n",
      "  Train     Loss: 1.3927, Accuracy: 85.16%  Validation Loss: 0.1154, Accuracy: 88.00%\n",
      "Epoch 21\n",
      "  Train     Loss: 1.3729, Accuracy: 85.52%  Validation Loss: 0.1154, Accuracy: 88.00%\n",
      "Epoch 22\n",
      "  Train     Loss: 1.3551, Accuracy: 85.40%  Validation Loss: 0.1155, Accuracy: 88.00%\n",
      "Epoch 23\n",
      "  Train     Loss: 1.3392, Accuracy: 85.77%  Validation Loss: 0.1156, Accuracy: 88.00%\n",
      "Epoch 24\n",
      "  Train     Loss: 1.3250, Accuracy: 85.77%  Validation Loss: 0.1157, Accuracy: 88.00%\n",
      "Epoch 25\n",
      "  Train     Loss: 1.3123, Accuracy: 85.77%  Validation Loss: 0.1158, Accuracy: 88.00%\n",
      "Epoch 26\n",
      "  Train     Loss: 1.3007, Accuracy: 86.01%  Validation Loss: 0.1159, Accuracy: 88.00%\n",
      "Epoch 27\n",
      "  Train     Loss: 1.2902, Accuracy: 86.37%  Validation Loss: 0.1159, Accuracy: 86.00%\n",
      "Epoch 28\n",
      "  Train     Loss: 1.2805, Accuracy: 86.25%  Validation Loss: 0.1159, Accuracy: 86.00%\n",
      "Epoch 29\n",
      "  Train     Loss: 1.2715, Accuracy: 86.50%  Validation Loss: 0.1158, Accuracy: 86.00%\n",
      "Epoch 30\n",
      "  Train     Loss: 1.2630, Accuracy: 86.62%  Validation Loss: 0.1158, Accuracy: 86.00%\n",
      "Epoch 31\n",
      "  Train     Loss: 1.2549, Accuracy: 86.86%  Validation Loss: 0.1157, Accuracy: 86.00%\n",
      "Epoch 32\n",
      "  Train     Loss: 1.2474, Accuracy: 87.10%  Validation Loss: 0.1156, Accuracy: 86.00%\n",
      "Epoch 33\n",
      "  Train     Loss: 1.2402, Accuracy: 87.47%  Validation Loss: 0.1154, Accuracy: 86.00%\n",
      "Epoch 34\n",
      "  Train     Loss: 1.2335, Accuracy: 87.71%  Validation Loss: 0.1152, Accuracy: 86.00%\n",
      "Epoch 35\n",
      "  Train     Loss: 1.2270, Accuracy: 87.71%  Validation Loss: 0.1150, Accuracy: 86.00%\n",
      "Epoch 36\n",
      "  Train     Loss: 1.2208, Accuracy: 87.83%  Validation Loss: 0.1148, Accuracy: 86.00%\n",
      "Epoch 37\n",
      "  Train     Loss: 1.2149, Accuracy: 87.83%  Validation Loss: 0.1145, Accuracy: 86.00%\n",
      "Epoch 38\n",
      "  Train     Loss: 1.2092, Accuracy: 87.71%  Validation Loss: 0.1142, Accuracy: 86.00%\n",
      "Epoch 39\n",
      "  Train     Loss: 1.2037, Accuracy: 87.83%  Validation Loss: 0.1140, Accuracy: 86.00%\n",
      "Epoch 40\n",
      "  Train     Loss: 1.1983, Accuracy: 87.83%  Validation Loss: 0.1136, Accuracy: 86.00%\n",
      "Epoch 41\n",
      "  Train     Loss: 1.1932, Accuracy: 87.96%  Validation Loss: 0.1133, Accuracy: 86.00%\n",
      "Epoch 42\n",
      "  Train     Loss: 1.1882, Accuracy: 87.96%  Validation Loss: 0.1130, Accuracy: 86.00%\n",
      "Epoch 43\n",
      "  Train     Loss: 1.1834, Accuracy: 88.08%  Validation Loss: 0.1127, Accuracy: 86.00%\n",
      "Epoch 44\n",
      "  Train     Loss: 1.1786, Accuracy: 88.20%  Validation Loss: 0.1123, Accuracy: 86.00%\n",
      "Epoch 45\n",
      "  Train     Loss: 1.1740, Accuracy: 88.20%  Validation Loss: 0.1120, Accuracy: 86.00%\n",
      "Epoch 46\n",
      "  Train     Loss: 1.1696, Accuracy: 88.20%  Validation Loss: 0.1117, Accuracy: 86.00%\n",
      "Epoch 47\n",
      "  Train     Loss: 1.1651, Accuracy: 88.20%  Validation Loss: 0.1113, Accuracy: 86.00%\n",
      "Epoch 48\n",
      "  Train     Loss: 1.1608, Accuracy: 88.32%  Validation Loss: 0.1110, Accuracy: 86.00%\n",
      "Epoch 49\n",
      "  Train     Loss: 1.1567, Accuracy: 88.32%  Validation Loss: 0.1107, Accuracy: 86.00%\n",
      "Epoch 50\n",
      "  Train     Loss: 1.1526, Accuracy: 88.32%  Validation Loss: 0.1103, Accuracy: 86.00%\n",
      "Epoch 51\n",
      "  Train     Loss: 1.1486, Accuracy: 88.32%  Validation Loss: 0.1100, Accuracy: 86.00%\n",
      "Epoch 52\n",
      "  Train     Loss: 1.1446, Accuracy: 88.32%  Validation Loss: 0.1097, Accuracy: 86.00%\n",
      "Epoch 53\n",
      "  Train     Loss: 1.1407, Accuracy: 88.44%  Validation Loss: 0.1093, Accuracy: 86.00%\n",
      "Epoch 54\n",
      "  Train     Loss: 1.1369, Accuracy: 88.56%  Validation Loss: 0.1090, Accuracy: 86.00%\n",
      "Epoch 55\n",
      "  Train     Loss: 1.1332, Accuracy: 88.69%  Validation Loss: 0.1088, Accuracy: 86.00%\n",
      "Epoch 56\n",
      "  Train     Loss: 1.1295, Accuracy: 88.69%  Validation Loss: 0.1085, Accuracy: 86.00%\n",
      "Epoch 57\n",
      "  Train     Loss: 1.1259, Accuracy: 88.69%  Validation Loss: 0.1082, Accuracy: 86.00%\n",
      "Epoch 58\n",
      "  Train     Loss: 1.1223, Accuracy: 88.69%  Validation Loss: 0.1080, Accuracy: 86.00%\n",
      "Epoch 59\n",
      "  Train     Loss: 1.1188, Accuracy: 88.69%  Validation Loss: 0.1078, Accuracy: 86.00%\n",
      "Epoch 60\n",
      "  Train     Loss: 1.1152, Accuracy: 88.81%  Validation Loss: 0.1075, Accuracy: 86.00%\n",
      "Epoch 61\n",
      "  Train     Loss: 1.1117, Accuracy: 88.81%  Validation Loss: 0.1074, Accuracy: 86.00%\n",
      "Epoch 62\n",
      "  Train     Loss: 1.1083, Accuracy: 88.81%  Validation Loss: 0.1071, Accuracy: 86.00%\n",
      "Epoch 63\n",
      "  Train     Loss: 1.1049, Accuracy: 89.05%  Validation Loss: 0.1069, Accuracy: 86.00%\n",
      "Epoch 64\n",
      "  Train     Loss: 1.1015, Accuracy: 89.05%  Validation Loss: 0.1066, Accuracy: 86.00%\n",
      "Epoch 65\n",
      "  Train     Loss: 1.0983, Accuracy: 89.05%  Validation Loss: 0.1064, Accuracy: 86.00%\n",
      "Epoch 66\n",
      "  Train     Loss: 1.0950, Accuracy: 88.93%  Validation Loss: 0.1062, Accuracy: 86.00%\n",
      "Epoch 67\n",
      "  Train     Loss: 1.0917, Accuracy: 88.81%  Validation Loss: 0.1059, Accuracy: 86.00%\n",
      "Epoch 68\n",
      "  Train     Loss: 1.0886, Accuracy: 88.81%  Validation Loss: 0.1057, Accuracy: 86.00%\n",
      "Epoch 69\n",
      "  Train     Loss: 1.0855, Accuracy: 88.93%  Validation Loss: 0.1054, Accuracy: 86.00%\n",
      "Epoch 70\n",
      "  Train     Loss: 1.0824, Accuracy: 88.93%  Validation Loss: 0.1052, Accuracy: 86.00%\n"
     ]
    }
   ],
   "source": [
    "model = SiameseNetwork(\n",
    "    in_channels=embedding_dim,\n",
    "    hidden_channels=hidden_dim,\n",
    "    out_channels=out_dim\n",
    ").to(device)\n",
    "\n",
    "optimizer = torch.optim.Adam(model.parameters(), lr=0.001)\n",
    "train(model, optimizer, all_data_pairs, val_pairs, device, epochs=epochs, batch_size=batch_size, threshold=threshold)\n",
    "torch.save(model.state_dict(), './models/siamese_gnn_model11.pth')"
   ]
  },
  {
   "cell_type": "markdown",
   "id": "4fa4ca0a",
   "metadata": {},
   "source": [
    "<h3>Evaluation</h3>"
   ]
  },
  {
   "cell_type": "code",
   "execution_count": 1095,
   "id": "8f09c119",
   "metadata": {},
   "outputs": [
    {
     "data": {
      "text/plain": [
       "SiameseNetwork(\n",
       "  (encoder): GNNEncoder(\n",
       "    (conv1): GCNConv(16, 32)\n",
       "    (conv2): GCNConv(32, 32)\n",
       "  )\n",
       ")"
      ]
     },
     "execution_count": 1095,
     "metadata": {},
     "output_type": "execute_result"
    }
   ],
   "source": [
    "loaded_model = SiameseNetwork(\n",
    "    in_channels=embedding_dim,\n",
    "    hidden_channels=hidden_dim,\n",
    "    out_channels=out_dim\n",
    ").to(device)\n",
    "model.load_state_dict(torch.load(\"models/siamese_gnn_model11.pth\"))\n",
    "model.eval()"
   ]
  },
  {
   "cell_type": "code",
   "execution_count": 1096,
   "id": "2067fcc0",
   "metadata": {},
   "outputs": [],
   "source": [
    "def find_best_threshold(model, dataset, device, batch_size=32, thresholds=np.linspace(0, 2, 100)):\n",
    "    model.eval()\n",
    "    all_preds_raw = []\n",
    "    all_labels = []\n",
    "\n",
    "    with torch.no_grad():\n",
    "        for i in range(0, len(dataset), batch_size):\n",
    "            batch_pairs = dataset[i:i+batch_size]\n",
    "\n",
    "            batch1, batch2, labels = collate_fn(batch_pairs, device)\n",
    "\n",
    "            h1, h2 = model(batch1, batch2)\n",
    "\n",
    "            distances = F.pairwise_distance(h1, h2)\n",
    "            all_preds_raw.extend(distances.cpu().numpy())\n",
    "            all_labels.extend(labels.cpu().numpy())\n",
    "\n",
    "    all_preds_raw = np.array(all_preds_raw)\n",
    "    all_labels = np.array(all_labels)\n",
    "\n",
    "    best_threshold = None\n",
    "    best_f1 = -1\n",
    "\n",
    "    for threshold in thresholds:\n",
    "        preds = (all_preds_raw < threshold).astype(int)\n",
    "        f1 = f1_score(all_labels, preds)\n",
    "\n",
    "        if f1 > best_f1:\n",
    "            best_f1 = f1\n",
    "            best_threshold = threshold\n",
    "\n",
    "    return best_threshold, best_f1\n",
    "\n",
    "\n",
    "def compute_confusion_matrix(model, dataset, device, batch_size=batch_size, threshold=threshold):\n",
    "    model.eval()\n",
    "    all_preds = []\n",
    "    all_labels = []\n",
    "\n",
    "    with torch.no_grad():\n",
    "        for i in range(0, len(dataset), batch_size):\n",
    "            batch_pairs = dataset[i:i+batch_size]\n",
    "\n",
    "            batch1, batch2, labels = collate_fn(batch_pairs, device)\n",
    "\n",
    "            h1, h2 = model(batch1, batch2)\n",
    "\n",
    "            distances = F.pairwise_distance(h1, h2)\n",
    "            predictions = (distances < threshold).float()\n",
    "\n",
    "            all_preds.extend(predictions.cpu().numpy())\n",
    "            all_labels.extend(labels.cpu().numpy())\n",
    "\n",
    "    all_preds = [int(round(x)) for x in all_preds]\n",
    "    all_labels = [int(round(x)) for x in all_labels]\n",
    "    \n",
    "    cm = confusion_matrix(all_labels, all_preds, labels=[0, 1])\n",
    "    return cm\n",
    "\n",
    "def plot_confusion_matrix(cm, labels):\n",
    "    fig, ax = plt.subplots(figsize=(8, 6))\n",
    "    cax = ax.matshow(cm, cmap=plt.cm.Blues)\n",
    "    plt.colorbar(cax)\n",
    "    ax.set_xticklabels([''] + labels)\n",
    "    ax.set_yticklabels([''] + labels)\n",
    "\n",
    "    for (i, j), value in np.ndenumerate(cm):\n",
    "        ax.text(j, i, f'{value}', ha='center', va='center', color='white' if cm[i, j] > cm.max()/2 else 'black')\n",
    "\n",
    "    plt.xlabel('Predicted')\n",
    "    plt.ylabel('True')\n",
    "    plt.title('Confusion Matrix')\n",
    "    plt.show()\n"
   ]
  },
  {
   "cell_type": "code",
   "execution_count": 1097,
   "id": "6428e1ac",
   "metadata": {},
   "outputs": [
    {
     "name": "stdout",
     "output_type": "stream",
     "text": [
      "Mejor threshold encontrado: 0.4444 con F1-score: 0.7273\n"
     ]
    },
    {
     "name": "stderr",
     "output_type": "stream",
     "text": [
      "C:\\Users\\ricor\\AppData\\Local\\Temp\\ipykernel_28992\\2978682660.py:64: UserWarning: set_ticklabels() should only be used with a fixed number of ticks, i.e. after set_ticks() or using a FixedLocator.\n",
      "  ax.set_xticklabels([''] + labels)\n",
      "C:\\Users\\ricor\\AppData\\Local\\Temp\\ipykernel_28992\\2978682660.py:65: UserWarning: set_ticklabels() should only be used with a fixed number of ticks, i.e. after set_ticks() or using a FixedLocator.\n",
      "  ax.set_yticklabels([''] + labels)\n"
     ]
    },
    {
     "data": {
      "image/png": "[encoded data removed]",
      "text/plain": [
       "<Figure size 800x600 with 2 Axes>"
      ]
     },
     "metadata": {},
     "output_type": "display_data"
    }
   ],
   "source": [
    "best_threshold, best_f1 = find_best_threshold(model, val_pairs, device)\n",
    "print(f\"Mejor threshold encontrado: {best_threshold:.4f} con F1-score: {best_f1:.4f}\")\n",
    "\n",
    "cm = compute_confusion_matrix(loaded_model, test_pairs, device, batch_size=batch_size, threshold=best_threshold)\n",
    "plot_confusion_matrix(cm, labels=['Not Plagiarized', 'Plagiarized'])"
   ]
  }
 ],
 "metadata": {
  "kernelspec": {
   "display_name": ".venv",
   "language": "python",
   "name": "python3"
  },
  "language_info": {
   "codemirror_mode": {
    "name": "ipython",
    "version": 3
   },
   "file_extension": ".py",
   "mimetype": "text/x-python",
   "name": "python",
   "nbconvert_exporter": "python",
   "pygments_lexer": "ipython3",
   "version": "3.11.0"
  }
 },
 "nbformat": 4,
 "nbformat_minor": 5
}
