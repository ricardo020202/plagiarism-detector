{
 "cells": [
  {
   "cell_type": "code",
   "execution_count": 1,
   "id": "f0e702d2",
   "metadata": {},
   "outputs": [],
   "source": [
    "import os\n",
    "import shutil"
   ]
  },
  {
   "cell_type": "code",
   "execution_count": 2,
   "id": "94c7257a",
   "metadata": {},
   "outputs": [
    {
     "name": "stdout",
     "output_type": "stream",
     "text": [
      "975 unique files found.\n",
      "Copying files...\n",
      "975 files copied successfully to '../datasets/conplag_preprocessed'.\n"
     ]
    }
   ],
   "source": [
    "files_path = \"../datasets/conplag\"\n",
    "destination_path = \"../datasets/conplag_preprocessed\"\n",
    "\n",
    "os.makedirs(destination_path, exist_ok=True)\n",
    "\n",
    "files_dict = {}\n",
    "\n",
    "for dir in os.listdir(files_path):\n",
    "    for file in os.listdir(os.path.join(files_path, dir)):\n",
    "        if file.endswith(\".java\") and file not in files_dict:\n",
    "            files_dict[file] = os.path.join(files_path, dir, file)\n",
    "\n",
    "print(f\"{len(files_dict)} unique files found.\")\n",
    "\n",
    "files_set = set(files_dict.values())\n",
    "\n",
    "print(\"Copying files...\")\n",
    "for file in files_set:\n",
    "    shutil.copy(file, destination_path)\n",
    "\n",
    "print(f\"{len(files_set)} files copied successfully to '{destination_path}'.\")"
   ]
  },
  {
   "cell_type": "code",
   "execution_count": null,
   "id": "3d4c49db",
   "metadata": {},
   "outputs": [],
   "source": [
    "import pandas as pd\n",
    "\n",
    "df = pd.read_csv(\"../labels/conplag-labels.csv\")\n",
    "\n",
    "df['id1'] = df['id1'].astype(str) + '.java'\n",
    "df['id2'] = df['id2'].astype(str) + '.java'\n",
    "\n",
    "df = df.drop(columns=['problem'], errors='ignore')\n",
    "\n",
    "df.to_csv(\"../labels/conplag-labels.csv\", index=False)\n"
   ]
  }
 ],
 "metadata": {
  "kernelspec": {
   "display_name": ".venv",
   "language": "python",
   "name": "python3"
  },
  "language_info": {
   "codemirror_mode": {
    "name": "ipython",
    "version": 3
   },
   "file_extension": ".py",
   "mimetype": "text/x-python",
   "name": "python",
   "nbconvert_exporter": "python",
   "pygments_lexer": "ipython3",
   "version": "3.11.0"
  }
 },
 "nbformat": 4,
 "nbformat_minor": 5
}
