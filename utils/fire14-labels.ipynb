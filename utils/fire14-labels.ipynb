{
 "cells": [
  {
   "cell_type": "code",
   "execution_count": 17,
   "id": "feeb4661",
   "metadata": {},
   "outputs": [],
   "source": [
    "from pathlib import Path\n",
    "import pandas as pd\n",
    "import os\n",
    "import random"
   ]
  },
  {
   "cell_type": "code",
   "execution_count": 18,
   "id": "e233097e",
   "metadata": {},
   "outputs": [],
   "source": [
    "DATASET_PATH = Path(\"../datasets/fire14-source-code-training-dataset/java\")\n",
    "PAIRS_PATH = Path(\"../datasets/fire14-source-code-training-dataset/SOCO14-java.qrel\")"
   ]
  },
  {
   "cell_type": "code",
   "execution_count": 19,
   "id": "d12fd821",
   "metadata": {},
   "outputs": [],
   "source": [
    "def load_java_files(java_directory):\n",
    "    return set(f for f in os.listdir(java_directory) if f.endswith('.java'))\n",
    "\n",
    "def load_plagiarized_pairs(qrel_filepath):\n",
    "    plagiarized_pairs = set()\n",
    "    with open(qrel_filepath, 'r') as f:\n",
    "        for line in f:\n",
    "            file1, file2 = line.strip().split()\n",
    "            plagiarized_pairs.add(tuple(sorted([file1, file2])))\n",
    "    return plagiarized_pairs\n",
    "\n",
    "def create_dataset(java_directory, qrel_filepath, negative_ratio=5):\n",
    "    files = load_java_files(java_directory)\n",
    "    plagiarized_pairs = load_plagiarized_pairs(qrel_filepath)\n",
    "\n",
    "    data = []\n",
    "    \n",
    "    all_files = list(files)\n",
    "\n",
    "    for file1, file2 in plagiarized_pairs:\n",
    "        if file1 in files and file2 in files:\n",
    "            data.append((file1, file2, 1))\n",
    "\n",
    "            negatives_added = 0\n",
    "            tries = 0\n",
    "            max_tries = 50\n",
    "\n",
    "            while negatives_added < negative_ratio and tries < max_tries:\n",
    "                random_file = random.choice(all_files)\n",
    "                if random_file != file1 and random_file != file2:\n",
    "                    if tuple(sorted([file1, random_file])) not in plagiarized_pairs and \\\n",
    "                       tuple(sorted([file2, random_file])) not in plagiarized_pairs:\n",
    "                        data.append((file1, random_file, 0))\n",
    "                        negatives_added += 1\n",
    "                tries += 1\n",
    "\n",
    "    df = pd.DataFrame(data, columns=[\"id1\", \"id2\", \"plagio\"])\n",
    "    return df"
   ]
  },
  {
   "cell_type": "code",
   "execution_count": 20,
   "id": "dfbbfed8",
   "metadata": {},
   "outputs": [
    {
     "name": "stdout",
     "output_type": "stream",
     "text": [
      "Dataset creado con 504 pares.\n"
     ]
    }
   ],
   "source": [
    "dataset = create_dataset(DATASET_PATH, PAIRS_PATH, negative_ratio=5)\n",
    "dataset = dataset.sample(frac=1).reset_index(drop=True)\n",
    "dataset.to_csv('../labels/fire14-labels.csv', index=False)\n",
    "print(f\"Dataset creado con {len(dataset)} pares.\")"
   ]
  }
 ],
 "metadata": {
  "kernelspec": {
   "display_name": ".venv",
   "language": "python",
   "name": "python3"
  },
  "language_info": {
   "codemirror_mode": {
    "name": "ipython",
    "version": 3
   },
   "file_extension": ".py",
   "mimetype": "text/x-python",
   "name": "python",
   "nbconvert_exporter": "python",
   "pygments_lexer": "ipython3",
   "version": "3.11.0"
  }
 },
 "nbformat": 4,
 "nbformat_minor": 5
}
