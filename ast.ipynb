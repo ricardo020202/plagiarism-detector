{
 "cells": [
  {
   "cell_type": "code",
   "execution_count": 40,
   "id": "4390b887",
   "metadata": {},
   "outputs": [],
   "source": [
    "from tree_sitter import Language, Parser\n",
    "import tree_sitter_java as ts_java\n",
    "import torch\n",
    "from torch_geometric.data import Data"
   ]
  },
  {
   "cell_type": "markdown",
   "id": "c2824138",
   "metadata": {},
   "source": [
    "<h3>Get AST</h3>"
   ]
  },
  {
   "cell_type": "code",
   "execution_count": 41,
   "id": "aca90b9b",
   "metadata": {},
   "outputs": [],
   "source": [
    "java_LANGUAGE = Language(ts_java.language())"
   ]
  },
  {
   "cell_type": "code",
   "execution_count": 42,
   "id": "627ff819",
   "metadata": {},
   "outputs": [],
   "source": [
    "original_file = './fire14-source-code-training-dataset/java/000.java'\n",
    "with open(original_file, 'r', encoding='utf-8') as file:\n",
    "    code = file.read()"
   ]
  },
  {
   "cell_type": "code",
   "execution_count": 43,
   "id": "5f9d1935",
   "metadata": {},
   "outputs": [],
   "source": [
    "parser = Parser(java_LANGUAGE)\n",
    "code = 'System.out.println(\"Hello World\");'\n",
    "tree = parser.parse(bytes(code, 'utf8'))\n",
    "root_node = tree.root_node\n",
    "# print(root_node)"
   ]
  },
  {
   "cell_type": "markdown",
   "id": "9edae27e",
   "metadata": {},
   "source": [
    "<h3>Travers AST to get nodes and edges</h3>"
   ]
  },
  {
   "cell_type": "code",
   "execution_count": 44,
   "id": "d53546e9",
   "metadata": {},
   "outputs": [
    {
     "name": "stdout",
     "output_type": "stream",
     "text": [
      "Nodes:\n",
      "0: program\n",
      "1: expression_statement\n",
      "2: method_invocation\n",
      "3: field_access\n",
      "4: identifier\n",
      "5: .\n",
      "6: identifier\n",
      "7: .\n",
      "8: identifier\n",
      "9: argument_list\n",
      "10: (\n",
      "11: string_literal\n",
      "12: \"\n",
      "13: string_fragment\n",
      "14: \"\n",
      "15: )\n",
      "16: ;\n",
      "\n",
      "Edges:\n",
      "0 -> 1\n",
      "1 -> 2\n",
      "2 -> 3\n",
      "3 -> 4\n",
      "3 -> 5\n",
      "3 -> 6\n",
      "2 -> 7\n",
      "2 -> 8\n",
      "2 -> 9\n",
      "9 -> 10\n",
      "9 -> 11\n",
      "11 -> 12\n",
      "11 -> 13\n",
      "11 -> 14\n",
      "9 -> 15\n",
      "1 -> 16\n"
     ]
    }
   ],
   "source": [
    "nodes = []\n",
    "edges = []\n",
    "\n",
    "def traverse(node, parent_idx=None):\n",
    "    idx = len(nodes)\n",
    "    nodes.append(node.type)\n",
    "    \n",
    "    if parent_idx is not None:\n",
    "        edges.append((parent_idx, idx))\n",
    "    \n",
    "    for child in node.children:\n",
    "        traverse(child, idx)\n",
    "\n",
    "traverse(root_node)\n",
    "\n",
    "print(\"Nodes:\")\n",
    "for i, node in enumerate(nodes):\n",
    "    print(f\"{i}: {node}\")\n",
    "\n",
    "print(\"\\nEdges:\")\n",
    "for parent_idx, child_idx in edges:\n",
    "    print(f\"{parent_idx} -> {child_idx}\")\n"
   ]
  },
  {
   "cell_type": "code",
   "execution_count": 45,
   "id": "7cc9fe48",
   "metadata": {},
   "outputs": [
    {
     "name": "stdout",
     "output_type": "stream",
     "text": [
      "\n",
      "Node Features:\n",
      "Node 0: 7\n",
      "Node 1: 3\n",
      "Node 2: 6\n",
      "Node 3: 2\n",
      "Node 4: 9\n",
      "Node 5: 12\n",
      "Node 6: 9\n",
      "Node 7: 12\n",
      "Node 8: 9\n",
      "Node 9: 1\n",
      "Node 10: 8\n",
      "Node 11: 11\n",
      "Node 12: 4\n",
      "Node 13: 10\n",
      "Node 14: 4\n",
      "Node 15: 5\n",
      "Node 16: 0\n"
     ]
    }
   ],
   "source": [
    "node_types = list(set(nodes))\n",
    "node_type_to_idx = {typ: i for i, typ in enumerate(node_types)}\n",
    "node_features = [node_type_to_idx[typ] for typ in nodes]\n",
    "\n",
    "print(\"\\nNode Features:\")\n",
    "for i, feature in enumerate(node_features):\n",
    "    print(f\"Node {i}: {feature}\")"
   ]
  },
  {
   "cell_type": "code",
   "execution_count": 47,
   "id": "df900120",
   "metadata": {},
   "outputs": [
    {
     "name": "stdout",
     "output_type": "stream",
     "text": [
      "\n",
      "Graph Data:\n",
      "Data(x=[17, 13], edge_index=[2, 16])\n",
      "Number of nodes: 17\n",
      "Number of edges: 16\n",
      "Node features shape: torch.Size([17, 13])\n",
      "Edge index shape: torch.Size([2, 16])\n"
     ]
    }
   ],
   "source": [
    "num_node_types = len(node_types)\n",
    "x = torch.eye(num_node_types)[torch.tensor(node_features)]\n",
    "edge_index = torch.tensor(edges, dtype=torch.long).t().contiguous()\n",
    "data = Data(x=x, edge_index=edge_index)\n",
    "\n",
    "print(\"\\nGraph Data:\")\n",
    "print(data)\n",
    "print(\"Number of nodes:\", data.num_nodes)\n",
    "print(\"Number of edges:\", data.num_edges)\n",
    "print(\"Node features shape:\", data.x.shape)\n",
    "print(\"Edge index shape:\", data.edge_index.shape)"
   ]
  }
 ],
 "metadata": {
  "kernelspec": {
   "display_name": ".venv",
   "language": "python",
   "name": "python3"
  },
  "language_info": {
   "codemirror_mode": {
    "name": "ipython",
    "version": 3
   },
   "file_extension": ".py",
   "mimetype": "text/x-python",
   "name": "python",
   "nbconvert_exporter": "python",
   "pygments_lexer": "ipython3",
   "version": "3.11.0"
  }
 },
 "nbformat": 4,
 "nbformat_minor": 5
}
